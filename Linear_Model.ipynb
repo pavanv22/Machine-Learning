{
  "nbformat": 4,
  "nbformat_minor": 0,
  "metadata": {
    "colab": {
      "provenance": [],
      "authorship_tag": "ABX9TyM8FSuXVMqePKauwu8I2E/J",
      "include_colab_link": true
    },
    "kernelspec": {
      "name": "python3",
      "display_name": "Python 3"
    },
    "language_info": {
      "name": "python"
    }
  },
    {
      "cell_type": "code",
      "execution_count": null,
      "metadata": {
        "id": "Zr3I0iacCHXQ"
      },
      "outputs": [],
      "source": []
    }
  ]
}
